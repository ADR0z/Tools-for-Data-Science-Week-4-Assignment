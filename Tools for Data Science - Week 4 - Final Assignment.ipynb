{
 "cells": [
  {
   "cell_type": "markdown",
   "metadata": {},
   "source": [
    "<center>\n",
    "    <img src=\"https://cf-courses-data.s3.us.cloud-object-storage.appdomain.cloud/IBMDeveloperSkillsNetwork-DS0105EN-SkillsNetwork/labs/Module2/images/SN_web_lightmode.png\" width=\"300\" alt=\"cognitiveclass.ai logo\">\n",
    "</center>\n"
   ]
  },
  {
   "cell_type": "markdown",
   "metadata": {},
   "source": [
    "#### Add your code below following the instructions given in the course\n"
   ]
  },
  {
   "cell_type": "markdown",
   "metadata": {},
   "source": [
    "Guidelines for the submission:\n",
    "There are a total of 25 points possible for this final project. \n",
    "\n",
    "Your grade will be based on the following Exercises:\n",
    "\n",
    "Exercise 2 - Create a markdown cell with the title of the notebook. (1 pt)\n",
    "\n",
    "Exercise 3 - Create a markdown cell for an introduction. (1 pt)\n",
    "\n",
    "Exercise 4 - Create a markdown cell to list data science languages. (3 pts)\n",
    "\n",
    "Exercise 5 - Create a markdown cell to list data science libraries. (3 pts)\n",
    "\n",
    "Exercise 6 - Create a markdown cell with a table of Data Science tools. (3 pts)\n",
    "\n",
    "Exercise 7 - Create a markdown cell introducing arithmetic expression examples. (1 pt)\n",
    "\n",
    "Exercise 8 - Create a code cell to multiply and add numbers.(2 pts)\n",
    "\n",
    "Exercise 9 - Create a code cell to convert minutes to hours. (2 pts)\n",
    "\n",
    "Exercise 10 -Insert a markdown cell to list Objectives. (3 pts)\n",
    "\n",
    "Exercise 11 - Create a markdown cell to indicate the Author’s name. (2 pts)\n",
    "\n",
    "Exercise 12 - Share your notebook through GitHub (3 pts)\n",
    "\n",
    "Exercise 13 - Take a screenshot of the first page of the notebook. (1 pt)\n",
    "\n"
   ]
  },
  {
   "cell_type": "markdown",
   "metadata": {},
   "source": [
    "# EX 2: Tools for Data Science > Week 4 > Submit Your Work and Grade Your Peers"
   ]
  },
  {
   "cell_type": "markdown",
   "metadata": {},
   "source": [
    "EX 3 : Andrei D. R."
   ]
  },
  {
   "cell_type": "markdown",
   "metadata": {},
   "source": [
    "EX 4: \n",
    "* Python\n",
    "* R\n",
    "* SQL\n",
    "\n",
    "there are others but these 3 are the main used in this course "
   ]
  },
  {
   "cell_type": "markdown",
   "metadata": {},
   "source": [
    "EX 5:\n",
    "    \n",
    "**Python:** \n",
    "* pandas\n",
    "* numpy\n",
    "* sklearn\n",
    "* scipy\n",
    "* tensorflow\n",
    "\n",
    "\n",
    "\n",
    "**R:**\n",
    "* ggplot2\n",
    "* Dplyr\n",
    "* rpart \n",
    "* h2o"
   ]
  },
  {
   "cell_type": "markdown",
   "metadata": {},
   "source": [
    "EX 6:\n",
    "\n",
    "|TOOLS|\n",
    "|-----|\n",
    "|IBM WATSON STUDIO|\n",
    "|Jupyter Notebook|\n",
    "|R Studio|\n",
    "|VS Code|"
   ]
  },
  {
   "cell_type": "markdown",
   "metadata": {},
   "source": [
    "EX 7:\n",
    "\n",
    "\n",
    "$\\hat{y} = slope + X*coeff$"
   ]
  },
  {
   "cell_type": "code",
   "execution_count": 3,
   "metadata": {},
   "outputs": [
    {
     "name": "stdout",
     "output_type": "stream",
     "text": [
      "4\n",
      "4\n"
     ]
    }
   ],
   "source": [
    "# EX 8:\n",
    "\n",
    "print(2+2)\n",
    "print(2*2)"
   ]
  },
  {
   "cell_type": "code",
   "execution_count": 8,
   "metadata": {},
   "outputs": [
    {
     "name": "stdout",
     "output_type": "stream",
     "text": [
      "180min are equal to 3.0H\n",
      "80min are equal to 1.33H\n",
      "50min are equal to 0.83H\n",
      "240min are equal to 4.0H\n"
     ]
    }
   ],
   "source": [
    "# EX 9:\n",
    "\n",
    "def m_to_H(minutes):\n",
    "    hours = minutes/60\n",
    "    print(f\"{minutes}min are equal to {round(hours,2)}H\")\n",
    "\n",
    "m_to_H(180)\n",
    "m_to_H(80)\n",
    "m_to_H(50)\n",
    "m_to_H(240)"
   ]
  },
  {
   "cell_type": "markdown",
   "metadata": {},
   "source": [
    "EX 10:\n",
    "\n",
    "1 Become very good at Python coding\n",
    "\n",
    "2 Become very good at statistics\n",
    "\n",
    "3 Learn to think lkike a Data Scientist\n",
    "\n",
    "4 Become Better at explaining the project's outcomes Visualisation \n",
    "\n",
    "5 Get a Data Scientist / Data Analytics job\n"
   ]
  },
  {
   "cell_type": "markdown",
   "metadata": {},
   "source": [
    "EX 11:\n",
    "\n",
    "Andrei D. R."
   ]
  },
  {
   "cell_type": "code",
   "execution_count": null,
   "metadata": {},
   "outputs": [],
   "source": []
  }
 ],
 "metadata": {
  "kernelspec": {
   "display_name": "Python 3 (ipykernel)",
   "language": "python",
   "name": "python3"
  },
  "language_info": {
   "codemirror_mode": {
    "name": "ipython",
    "version": 3
   },
   "file_extension": ".py",
   "mimetype": "text/x-python",
   "name": "python",
   "nbconvert_exporter": "python",
   "pygments_lexer": "ipython3",
   "version": "3.9.13"
  }
 },
 "nbformat": 4,
 "nbformat_minor": 4
}
